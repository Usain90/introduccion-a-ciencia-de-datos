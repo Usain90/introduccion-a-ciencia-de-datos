{
 "cells": [
  {
   "cell_type": "markdown",
   "id": "a7def0b9",
   "metadata": {},
   "source": [
    "## Pandas:"
   ]
  },
  {
   "cell_type": "markdown",
   "id": "5b9bf974",
   "metadata": {},
   "source": [
    "Introducción:"
   ]
  },
  {
   "cell_type": "markdown",
   "id": "641279e1",
   "metadata": {},
   "source": [
    "Panda es la libreria central del ecosistema de ciencia de datos en Python\n",
    "\n",
    "Mientras NumPy trabaja con arrays homogéneos (solo números, sin etiquetas), pandas agrega dos estructuras de datos de alto nivel Series y DataFrame, diseñadas para análisis de datos reales: etiquetados, hetrogéneos y estructurados. "
   ]
  },
  {
   "cell_type": "markdown",
   "id": "dd066ec1",
   "metadata": {},
   "source": [
    "Pandas busca proporcionar una experiencia similar a Excel o R DataFrame, pero con la potencia programática de Python"
   ]
  },
  {
   "cell_type": "markdown",
   "id": "d89ae3c4",
   "metadata": {},
   "source": [
    "### Estructuras de Datos Fundamentales"
   ]
  },
  {
   "cell_type": "markdown",
   "id": "151b2856",
   "metadata": {},
   "source": [
    "#### Series:"
   ]
  },
  {
   "cell_type": "markdown",
   "id": "c81f508f",
   "metadata": {},
   "source": [
    "Una serie es un array unidimensional con etiquetas (índice). se puede crear desde listas, arrays o diccionarios. "
   ]
  },
  {
   "cell_type": "code",
   "execution_count": 2,
   "id": "274437e2",
   "metadata": {},
   "outputs": [],
   "source": [
    "# pip install pandas"
   ]
  },
  {
   "cell_type": "code",
   "execution_count": 3,
   "id": "58e2d40f",
   "metadata": {},
   "outputs": [],
   "source": [
    "import pandas as pd\n",
    "obj = pd.Series([4, 7, -5, 3], index=['a', 'b', 'c', 'd'])\n"
   ]
  },
  {
   "cell_type": "code",
   "execution_count": 4,
   "id": "2cf1cda1",
   "metadata": {},
   "outputs": [
    {
     "data": {
      "text/plain": [
       "a    4\n",
       "b    7\n",
       "c   -5\n",
       "d    3\n",
       "dtype: int64"
      ]
     },
     "execution_count": 4,
     "metadata": {},
     "output_type": "execute_result"
    }
   ],
   "source": [
    "obj"
   ]
  },
  {
   "cell_type": "markdown",
   "id": "629fffd7",
   "metadata": {},
   "source": [
    "Cada elemento está asociado a una etiqueta. Se accede con obj['a'] o por posición.\n",
    "Las Series se comportan como diccionarios y como arrays al mismo tiempo.\n",
    "\n",
    "* obj.values devuelve un array NumPy.\n",
    "\n",
    "* obj.index muestra el índice.\n",
    "\n",
    "* Las operaciones mantienen la alineación por etiquetas: si dos Series tienen índices diferentes, pandas alinea los datos automáticamente (rellenando con NaN si falta algo)."
   ]
  },
  {
   "cell_type": "code",
   "execution_count": 5,
   "id": "2881d8d8",
   "metadata": {},
   "outputs": [
    {
     "data": {
      "text/plain": [
       "array([ 4,  7, -5,  3])"
      ]
     },
     "execution_count": 5,
     "metadata": {},
     "output_type": "execute_result"
    }
   ],
   "source": [
    "obj.values"
   ]
  },
  {
   "cell_type": "code",
   "execution_count": 5,
   "id": "ca644c55",
   "metadata": {},
   "outputs": [
    {
     "data": {
      "text/plain": [
       "Index(['a', 'b', 'c', 'd'], dtype='object')"
      ]
     },
     "execution_count": 5,
     "metadata": {},
     "output_type": "execute_result"
    }
   ],
   "source": [
    "obj.index"
   ]
  },
  {
   "cell_type": "markdown",
   "id": "17eba7ca",
   "metadata": {},
   "source": [
    "#### DataFrame"
   ]
  },
  {
   "cell_type": "markdown",
   "id": "a8823d13",
   "metadata": {},
   "source": [
    "Un DataFrame es una estructura bidimensional (filas y columnas) con etiquetas para ambos ejes."
   ]
  },
  {
   "cell_type": "code",
   "execution_count": 19,
   "id": "c513e417",
   "metadata": {},
   "outputs": [],
   "source": [
    "data = {\n",
    "    'year': [2010, 2011, 2012],\n",
    "    'team': ['A', 'B', 'C'],\n",
    "    'points': [8, 12, 9]\n",
    "}\n",
    "df = pd.DataFrame(data)\n"
   ]
  },
  {
   "cell_type": "code",
   "execution_count": 20,
   "id": "61dc048e",
   "metadata": {},
   "outputs": [
    {
     "data": {
      "text/html": [
       "<div>\n",
       "<style scoped>\n",
       "    .dataframe tbody tr th:only-of-type {\n",
       "        vertical-align: middle;\n",
       "    }\n",
       "\n",
       "    .dataframe tbody tr th {\n",
       "        vertical-align: top;\n",
       "    }\n",
       "\n",
       "    .dataframe thead th {\n",
       "        text-align: right;\n",
       "    }\n",
       "</style>\n",
       "<table border=\"1\" class=\"dataframe\">\n",
       "  <thead>\n",
       "    <tr style=\"text-align: right;\">\n",
       "      <th></th>\n",
       "      <th>year</th>\n",
       "      <th>team</th>\n",
       "      <th>points</th>\n",
       "    </tr>\n",
       "  </thead>\n",
       "  <tbody>\n",
       "    <tr>\n",
       "      <th>0</th>\n",
       "      <td>2010</td>\n",
       "      <td>A</td>\n",
       "      <td>8</td>\n",
       "    </tr>\n",
       "    <tr>\n",
       "      <th>1</th>\n",
       "      <td>2011</td>\n",
       "      <td>B</td>\n",
       "      <td>12</td>\n",
       "    </tr>\n",
       "    <tr>\n",
       "      <th>2</th>\n",
       "      <td>2012</td>\n",
       "      <td>C</td>\n",
       "      <td>9</td>\n",
       "    </tr>\n",
       "  </tbody>\n",
       "</table>\n",
       "</div>"
      ],
      "text/plain": [
       "   year team  points\n",
       "0  2010    A       8\n",
       "1  2011    B      12\n",
       "2  2012    C       9"
      ]
     },
     "execution_count": 20,
     "metadata": {},
     "output_type": "execute_result"
    }
   ],
   "source": [
    "df"
   ]
  },
  {
   "cell_type": "markdown",
   "id": "cc297ecd",
   "metadata": {},
   "source": [
    "Se comporta como una tabla de base de datos o una hoja de cálculo.\n",
    "Cada columna es una Series, y todas comparten el mismo índice de filas.\n",
    "\n",
    "Atributos principales:\n",
    "\n",
    "* df.columns → nombres de columnas\n",
    "\n",
    "* df.index → etiquetas de fila\n",
    "\n",
    "* df.values → matriz NumPy subyacente\n",
    "\n",
    "Podés acceder a columnas con df['team'] o df.team, y a filas con df.loc['A'] o df.iloc[0]."
   ]
  },
  {
   "cell_type": "markdown",
   "id": "e00f479b",
   "metadata": {},
   "source": [
    "### Creación de Objetos pandas"
   ]
  },
  {
   "cell_type": "markdown",
   "id": "f10da806",
   "metadata": {},
   "source": [
    "pandas permite crear objetos desde:\n",
    "\n",
    "* Diccionarios → claves → columnas.\n",
    "\n",
    "* Listas o arrays NumPy → columnas sin etiquetas.\n",
    "\n",
    "* Series existentes → columnas con alineación automática.\n",
    "\n",
    "* Archivos externos (CSV, Excel, JSON, SQL)."
   ]
  },
  {
   "cell_type": "code",
   "execution_count": 7,
   "id": "966f972d",
   "metadata": {},
   "outputs": [
    {
     "data": {
      "text/html": [
       "<div>\n",
       "<style scoped>\n",
       "    .dataframe tbody tr th:only-of-type {\n",
       "        vertical-align: middle;\n",
       "    }\n",
       "\n",
       "    .dataframe tbody tr th {\n",
       "        vertical-align: top;\n",
       "    }\n",
       "\n",
       "    .dataframe thead th {\n",
       "        text-align: right;\n",
       "    }\n",
       "</style>\n",
       "<table border=\"1\" class=\"dataframe\">\n",
       "  <thead>\n",
       "    <tr style=\"text-align: right;\">\n",
       "      <th></th>\n",
       "      <th>PassengerId</th>\n",
       "      <th>Survived</th>\n",
       "      <th>Pclass</th>\n",
       "      <th>Name</th>\n",
       "      <th>Sex</th>\n",
       "      <th>Age</th>\n",
       "      <th>SibSp</th>\n",
       "      <th>Parch</th>\n",
       "      <th>Ticket</th>\n",
       "      <th>Fare</th>\n",
       "      <th>Cabin</th>\n",
       "      <th>Embarked</th>\n",
       "    </tr>\n",
       "  </thead>\n",
       "  <tbody>\n",
       "    <tr>\n",
       "      <th>0</th>\n",
       "      <td>1</td>\n",
       "      <td>0</td>\n",
       "      <td>3</td>\n",
       "      <td>Braund, Mr. Owen Harris</td>\n",
       "      <td>male</td>\n",
       "      <td>22.0</td>\n",
       "      <td>1</td>\n",
       "      <td>0</td>\n",
       "      <td>A/5 21171</td>\n",
       "      <td>7.2500</td>\n",
       "      <td>NaN</td>\n",
       "      <td>S</td>\n",
       "    </tr>\n",
       "    <tr>\n",
       "      <th>1</th>\n",
       "      <td>2</td>\n",
       "      <td>1</td>\n",
       "      <td>1</td>\n",
       "      <td>Cumings, Mrs. John Bradley (Florence Briggs Th...</td>\n",
       "      <td>female</td>\n",
       "      <td>38.0</td>\n",
       "      <td>1</td>\n",
       "      <td>0</td>\n",
       "      <td>PC 17599</td>\n",
       "      <td>71.2833</td>\n",
       "      <td>C85</td>\n",
       "      <td>C</td>\n",
       "    </tr>\n",
       "    <tr>\n",
       "      <th>2</th>\n",
       "      <td>3</td>\n",
       "      <td>1</td>\n",
       "      <td>3</td>\n",
       "      <td>Heikkinen, Miss. Laina</td>\n",
       "      <td>female</td>\n",
       "      <td>26.0</td>\n",
       "      <td>0</td>\n",
       "      <td>0</td>\n",
       "      <td>STON/O2. 3101282</td>\n",
       "      <td>7.9250</td>\n",
       "      <td>NaN</td>\n",
       "      <td>S</td>\n",
       "    </tr>\n",
       "    <tr>\n",
       "      <th>3</th>\n",
       "      <td>4</td>\n",
       "      <td>1</td>\n",
       "      <td>1</td>\n",
       "      <td>Futrelle, Mrs. Jacques Heath (Lily May Peel)</td>\n",
       "      <td>female</td>\n",
       "      <td>35.0</td>\n",
       "      <td>1</td>\n",
       "      <td>0</td>\n",
       "      <td>113803</td>\n",
       "      <td>53.1000</td>\n",
       "      <td>C123</td>\n",
       "      <td>S</td>\n",
       "    </tr>\n",
       "    <tr>\n",
       "      <th>4</th>\n",
       "      <td>5</td>\n",
       "      <td>0</td>\n",
       "      <td>3</td>\n",
       "      <td>Allen, Mr. William Henry</td>\n",
       "      <td>male</td>\n",
       "      <td>35.0</td>\n",
       "      <td>0</td>\n",
       "      <td>0</td>\n",
       "      <td>373450</td>\n",
       "      <td>8.0500</td>\n",
       "      <td>NaN</td>\n",
       "      <td>S</td>\n",
       "    </tr>\n",
       "    <tr>\n",
       "      <th>...</th>\n",
       "      <td>...</td>\n",
       "      <td>...</td>\n",
       "      <td>...</td>\n",
       "      <td>...</td>\n",
       "      <td>...</td>\n",
       "      <td>...</td>\n",
       "      <td>...</td>\n",
       "      <td>...</td>\n",
       "      <td>...</td>\n",
       "      <td>...</td>\n",
       "      <td>...</td>\n",
       "      <td>...</td>\n",
       "    </tr>\n",
       "    <tr>\n",
       "      <th>886</th>\n",
       "      <td>887</td>\n",
       "      <td>0</td>\n",
       "      <td>2</td>\n",
       "      <td>Montvila, Rev. Juozas</td>\n",
       "      <td>male</td>\n",
       "      <td>27.0</td>\n",
       "      <td>0</td>\n",
       "      <td>0</td>\n",
       "      <td>211536</td>\n",
       "      <td>13.0000</td>\n",
       "      <td>NaN</td>\n",
       "      <td>S</td>\n",
       "    </tr>\n",
       "    <tr>\n",
       "      <th>887</th>\n",
       "      <td>888</td>\n",
       "      <td>1</td>\n",
       "      <td>1</td>\n",
       "      <td>Graham, Miss. Margaret Edith</td>\n",
       "      <td>female</td>\n",
       "      <td>19.0</td>\n",
       "      <td>0</td>\n",
       "      <td>0</td>\n",
       "      <td>112053</td>\n",
       "      <td>30.0000</td>\n",
       "      <td>B42</td>\n",
       "      <td>S</td>\n",
       "    </tr>\n",
       "    <tr>\n",
       "      <th>888</th>\n",
       "      <td>889</td>\n",
       "      <td>0</td>\n",
       "      <td>3</td>\n",
       "      <td>Johnston, Miss. Catherine Helen \"Carrie\"</td>\n",
       "      <td>female</td>\n",
       "      <td>NaN</td>\n",
       "      <td>1</td>\n",
       "      <td>2</td>\n",
       "      <td>W./C. 6607</td>\n",
       "      <td>23.4500</td>\n",
       "      <td>NaN</td>\n",
       "      <td>S</td>\n",
       "    </tr>\n",
       "    <tr>\n",
       "      <th>889</th>\n",
       "      <td>890</td>\n",
       "      <td>1</td>\n",
       "      <td>1</td>\n",
       "      <td>Behr, Mr. Karl Howell</td>\n",
       "      <td>male</td>\n",
       "      <td>26.0</td>\n",
       "      <td>0</td>\n",
       "      <td>0</td>\n",
       "      <td>111369</td>\n",
       "      <td>30.0000</td>\n",
       "      <td>C148</td>\n",
       "      <td>C</td>\n",
       "    </tr>\n",
       "    <tr>\n",
       "      <th>890</th>\n",
       "      <td>891</td>\n",
       "      <td>0</td>\n",
       "      <td>3</td>\n",
       "      <td>Dooley, Mr. Patrick</td>\n",
       "      <td>male</td>\n",
       "      <td>32.0</td>\n",
       "      <td>0</td>\n",
       "      <td>0</td>\n",
       "      <td>370376</td>\n",
       "      <td>7.7500</td>\n",
       "      <td>NaN</td>\n",
       "      <td>Q</td>\n",
       "    </tr>\n",
       "  </tbody>\n",
       "</table>\n",
       "<p>891 rows × 12 columns</p>\n",
       "</div>"
      ],
      "text/plain": [
       "     PassengerId  Survived  Pclass  \\\n",
       "0              1         0       3   \n",
       "1              2         1       1   \n",
       "2              3         1       3   \n",
       "3              4         1       1   \n",
       "4              5         0       3   \n",
       "..           ...       ...     ...   \n",
       "886          887         0       2   \n",
       "887          888         1       1   \n",
       "888          889         0       3   \n",
       "889          890         1       1   \n",
       "890          891         0       3   \n",
       "\n",
       "                                                  Name     Sex   Age  SibSp  \\\n",
       "0                              Braund, Mr. Owen Harris    male  22.0      1   \n",
       "1    Cumings, Mrs. John Bradley (Florence Briggs Th...  female  38.0      1   \n",
       "2                               Heikkinen, Miss. Laina  female  26.0      0   \n",
       "3         Futrelle, Mrs. Jacques Heath (Lily May Peel)  female  35.0      1   \n",
       "4                             Allen, Mr. William Henry    male  35.0      0   \n",
       "..                                                 ...     ...   ...    ...   \n",
       "886                              Montvila, Rev. Juozas    male  27.0      0   \n",
       "887                       Graham, Miss. Margaret Edith  female  19.0      0   \n",
       "888           Johnston, Miss. Catherine Helen \"Carrie\"  female   NaN      1   \n",
       "889                              Behr, Mr. Karl Howell    male  26.0      0   \n",
       "890                                Dooley, Mr. Patrick    male  32.0      0   \n",
       "\n",
       "     Parch            Ticket     Fare Cabin Embarked  \n",
       "0        0         A/5 21171   7.2500   NaN        S  \n",
       "1        0          PC 17599  71.2833   C85        C  \n",
       "2        0  STON/O2. 3101282   7.9250   NaN        S  \n",
       "3        0            113803  53.1000  C123        S  \n",
       "4        0            373450   8.0500   NaN        S  \n",
       "..     ...               ...      ...   ...      ...  \n",
       "886      0            211536  13.0000   NaN        S  \n",
       "887      0            112053  30.0000   B42        S  \n",
       "888      2        W./C. 6607  23.4500   NaN        S  \n",
       "889      0            111369  30.0000  C148        C  \n",
       "890      0            370376   7.7500   NaN        Q  \n",
       "\n",
       "[891 rows x 12 columns]"
      ]
     },
     "execution_count": 7,
     "metadata": {},
     "output_type": "execute_result"
    }
   ],
   "source": [
    "pd.read_csv('titanic.csv')"
   ]
  },
  {
   "cell_type": "markdown",
   "id": "59357c65",
   "metadata": {},
   "source": [
    "### Indexación y Selección de Datos"
   ]
  },
  {
   "cell_type": "markdown",
   "id": "f753e705",
   "metadata": {},
   "source": [
    "Selección por columna y fila\n",
    "\n",
    "* df['columna'] → selecciona una columna (Series).\n",
    "\n",
    "* df[['a','b']] → selecciona varias columnas.\n",
    "\n",
    "* df.loc['fila'] → selecciona por etiqueta.\n",
    "\n",
    "* df.iloc[0] → selecciona por posición numérica.\n",
    "\n",
    "También se puede combinar: df.loc['A', 'points']."
   ]
  },
  {
   "cell_type": "code",
   "execution_count": 21,
   "id": "e504f4a9",
   "metadata": {},
   "outputs": [
    {
     "data": {
      "text/html": [
       "<div>\n",
       "<style scoped>\n",
       "    .dataframe tbody tr th:only-of-type {\n",
       "        vertical-align: middle;\n",
       "    }\n",
       "\n",
       "    .dataframe tbody tr th {\n",
       "        vertical-align: top;\n",
       "    }\n",
       "\n",
       "    .dataframe thead th {\n",
       "        text-align: right;\n",
       "    }\n",
       "</style>\n",
       "<table border=\"1\" class=\"dataframe\">\n",
       "  <thead>\n",
       "    <tr style=\"text-align: right;\">\n",
       "      <th></th>\n",
       "      <th>year</th>\n",
       "      <th>team</th>\n",
       "      <th>points</th>\n",
       "    </tr>\n",
       "  </thead>\n",
       "  <tbody>\n",
       "    <tr>\n",
       "      <th>0</th>\n",
       "      <td>2010</td>\n",
       "      <td>A</td>\n",
       "      <td>8</td>\n",
       "    </tr>\n",
       "    <tr>\n",
       "      <th>1</th>\n",
       "      <td>2011</td>\n",
       "      <td>B</td>\n",
       "      <td>12</td>\n",
       "    </tr>\n",
       "    <tr>\n",
       "      <th>2</th>\n",
       "      <td>2012</td>\n",
       "      <td>C</td>\n",
       "      <td>9</td>\n",
       "    </tr>\n",
       "  </tbody>\n",
       "</table>\n",
       "</div>"
      ],
      "text/plain": [
       "   year team  points\n",
       "0  2010    A       8\n",
       "1  2011    B      12\n",
       "2  2012    C       9"
      ]
     },
     "execution_count": 21,
     "metadata": {},
     "output_type": "execute_result"
    }
   ],
   "source": [
    "df"
   ]
  },
  {
   "cell_type": "markdown",
   "id": "91380754",
   "metadata": {},
   "source": [
    "Filtrado condicional"
   ]
  },
  {
   "cell_type": "code",
   "execution_count": 22,
   "id": "728f9f16",
   "metadata": {},
   "outputs": [
    {
     "data": {
      "text/html": [
       "<div>\n",
       "<style scoped>\n",
       "    .dataframe tbody tr th:only-of-type {\n",
       "        vertical-align: middle;\n",
       "    }\n",
       "\n",
       "    .dataframe tbody tr th {\n",
       "        vertical-align: top;\n",
       "    }\n",
       "\n",
       "    .dataframe thead th {\n",
       "        text-align: right;\n",
       "    }\n",
       "</style>\n",
       "<table border=\"1\" class=\"dataframe\">\n",
       "  <thead>\n",
       "    <tr style=\"text-align: right;\">\n",
       "      <th></th>\n",
       "      <th>year</th>\n",
       "      <th>team</th>\n",
       "      <th>points</th>\n",
       "    </tr>\n",
       "  </thead>\n",
       "  <tbody>\n",
       "    <tr>\n",
       "      <th>1</th>\n",
       "      <td>2011</td>\n",
       "      <td>B</td>\n",
       "      <td>12</td>\n",
       "    </tr>\n",
       "  </tbody>\n",
       "</table>\n",
       "</div>"
      ],
      "text/plain": [
       "   year team  points\n",
       "1  2011    B      12"
      ]
     },
     "execution_count": 22,
     "metadata": {},
     "output_type": "execute_result"
    }
   ],
   "source": [
    "df[df['team'] == 'B']"
   ]
  },
  {
   "cell_type": "markdown",
   "id": "267e77fa",
   "metadata": {},
   "source": [
    "Asignación de valores"
   ]
  },
  {
   "cell_type": "code",
   "execution_count": 23,
   "id": "d579db47",
   "metadata": {},
   "outputs": [],
   "source": [
    "df['points'] = [5, 10, 15]\n",
    "df.loc['A', 'points'] = 20"
   ]
  },
  {
   "cell_type": "code",
   "execution_count": 24,
   "id": "42701c8d",
   "metadata": {},
   "outputs": [
    {
     "data": {
      "text/html": [
       "<div>\n",
       "<style scoped>\n",
       "    .dataframe tbody tr th:only-of-type {\n",
       "        vertical-align: middle;\n",
       "    }\n",
       "\n",
       "    .dataframe tbody tr th {\n",
       "        vertical-align: top;\n",
       "    }\n",
       "\n",
       "    .dataframe thead th {\n",
       "        text-align: right;\n",
       "    }\n",
       "</style>\n",
       "<table border=\"1\" class=\"dataframe\">\n",
       "  <thead>\n",
       "    <tr style=\"text-align: right;\">\n",
       "      <th></th>\n",
       "      <th>year</th>\n",
       "      <th>team</th>\n",
       "      <th>points</th>\n",
       "    </tr>\n",
       "  </thead>\n",
       "  <tbody>\n",
       "    <tr>\n",
       "      <th>0</th>\n",
       "      <td>2010.0</td>\n",
       "      <td>A</td>\n",
       "      <td>5.0</td>\n",
       "    </tr>\n",
       "    <tr>\n",
       "      <th>1</th>\n",
       "      <td>2011.0</td>\n",
       "      <td>B</td>\n",
       "      <td>10.0</td>\n",
       "    </tr>\n",
       "    <tr>\n",
       "      <th>2</th>\n",
       "      <td>2012.0</td>\n",
       "      <td>C</td>\n",
       "      <td>15.0</td>\n",
       "    </tr>\n",
       "    <tr>\n",
       "      <th>A</th>\n",
       "      <td>NaN</td>\n",
       "      <td>NaN</td>\n",
       "      <td>20.0</td>\n",
       "    </tr>\n",
       "  </tbody>\n",
       "</table>\n",
       "</div>"
      ],
      "text/plain": [
       "     year team  points\n",
       "0  2010.0    A     5.0\n",
       "1  2011.0    B    10.0\n",
       "2  2012.0    C    15.0\n",
       "A     NaN  NaN    20.0"
      ]
     },
     "execution_count": 24,
     "metadata": {},
     "output_type": "execute_result"
    }
   ],
   "source": [
    "df"
   ]
  },
  {
   "cell_type": "markdown",
   "id": "a42fb0da",
   "metadata": {},
   "source": [
    "Eliminación de datos"
   ]
  },
  {
   "cell_type": "markdown",
   "id": "d9cfc08c",
   "metadata": {},
   "source": [
    "df.drop('columna', axis=1) o df.drop('fila', axis=0)\n",
    "\n",
    "axis=1 → columnas, axis=0 → filas."
   ]
  },
  {
   "cell_type": "markdown",
   "id": "e3a3252e",
   "metadata": {},
   "source": [
    "### Alineación de Datos y Operaciones Entre Estructuras"
   ]
  },
  {
   "cell_type": "markdown",
   "id": "cecaf17b",
   "metadata": {},
   "source": [
    "Una característica central de pandas es la alineación automática por etiquetas.\n",
    "Si hacés operaciones entre Series o DataFrames con índices distintos, pandas combina por nombre de etiqueta.\n",
    "\n",
    "Los valores que no tienen correspondencia se completan con NaN."
   ]
  },
  {
   "cell_type": "code",
   "execution_count": 25,
   "id": "bb5d16fd",
   "metadata": {},
   "outputs": [
    {
     "data": {
      "text/plain": [
       "a    NaN\n",
       "b    6.0\n",
       "c    8.0\n",
       "d    NaN\n",
       "dtype: float64"
      ]
     },
     "execution_count": 25,
     "metadata": {},
     "output_type": "execute_result"
    }
   ],
   "source": [
    "s1 = pd.Series([1, 2, 3], index=['a','b','c'])\n",
    "s2 = pd.Series([4, 5, 6], index=['b','c','d'])\n",
    "s1 + s2\n"
   ]
  },
  {
   "cell_type": "code",
   "execution_count": 27,
   "id": "7ad51b3d",
   "metadata": {},
   "outputs": [
    {
     "data": {
      "text/plain": [
       "b    4\n",
       "c    5\n",
       "d    6\n",
       "dtype: int64"
      ]
     },
     "execution_count": 27,
     "metadata": {},
     "output_type": "execute_result"
    }
   ],
   "source": [
    "s2"
   ]
  },
  {
   "cell_type": "markdown",
   "id": "cab04190",
   "metadata": {},
   "source": [
    "### Reindexación y Operaciones de Ejes"
   ]
  },
  {
   "cell_type": "markdown",
   "id": "87109f9e",
   "metadata": {},
   "source": [
    "Reindexar"
   ]
  },
  {
   "cell_type": "markdown",
   "id": "5d0432ee",
   "metadata": {},
   "source": [
    "reindex() permite reordenar o agregar índices nuevos."
   ]
  },
  {
   "cell_type": "code",
   "execution_count": 45,
   "id": "e83726a9",
   "metadata": {},
   "outputs": [
    {
     "data": {
      "text/plain": [
       "c    3.0\n",
       "a    1.0\n",
       "b    2.0\n",
       "d    NaN\n",
       "dtype: float64"
      ]
     },
     "execution_count": 45,
     "metadata": {},
     "output_type": "execute_result"
    }
   ],
   "source": [
    "obj = pd.Series([1, 2, 3], index=['a','b','c'])\n",
    "obj.reindex(['c','a','b','d'])\n"
   ]
  },
  {
   "cell_type": "markdown",
   "id": "b9bf94fb",
   "metadata": {},
   "source": [
    "Métodos útiles:\n",
    "\n",
    "* fill_value= en operaciones: reemplaza NaN por un número al combinar estructuras.\n",
    "\n",
    "* rename() → cambia etiquetas.\n",
    "\n",
    "* sort_index() → ordena por índice o por valores.\n",
    "\n",
    "* axis= → 0 (filas) o 1 (columnas) en todas las funciones que lo admiten."
   ]
  },
  {
   "cell_type": "markdown",
   "id": "2d373f6f",
   "metadata": {},
   "source": [
    "### Datos Faltantes (Missing Data)"
   ]
  },
  {
   "cell_type": "markdown",
   "id": "49f5cc7a",
   "metadata": {},
   "source": [
    "pandas ofrece operaciones vectorizadas por defecto:"
   ]
  },
  {
   "cell_type": "code",
   "execution_count": 47,
   "id": "7cd33a4b",
   "metadata": {},
   "outputs": [],
   "source": [
    "# df.mean(), df.sum(), df.describe()"
   ]
  },
  {
   "cell_type": "markdown",
   "id": "326f3cfa",
   "metadata": {},
   "source": [
    "Las funciones se aplican por columna (axis=0) o fila (axis=1).\n",
    "\n",
    "También se puede usar apply(función) para aplicar funciones personalizadas."
   ]
  },
  {
   "cell_type": "code",
   "execution_count": 49,
   "id": "7410625f",
   "metadata": {},
   "outputs": [],
   "source": [
    "#f = lambda x: x.max() - x.min()\n",
    "#df.apply(f)"
   ]
  },
  {
   "cell_type": "markdown",
   "id": "dfce3306",
   "metadata": {},
   "source": [
    "### Índices Jerárquicos (MultiIndex)"
   ]
  },
  {
   "cell_type": "markdown",
   "id": "13a64adf",
   "metadata": {},
   "source": [
    "Permite tener más de un nivel de índice.\n",
    "\n",
    "Esto es útil para datos con dimensiones múltiples (por ejemplo, país + año)."
   ]
  },
  {
   "cell_type": "code",
   "execution_count": 28,
   "id": "60164828",
   "metadata": {},
   "outputs": [],
   "source": [
    "arrays = [['A','A','B','B'], [1,2,1,2]]\n",
    "index = pd.MultiIndex.from_arrays(arrays, names=('team','year'))\n",
    "data = pd.Series([10,20,30,40], index=index)"
   ]
  },
  {
   "cell_type": "markdown",
   "id": "54c94b39",
   "metadata": {},
   "source": [
    "Podés acceder a subconjuntos con tuplas (data['A']) o usar unstack() / stack() para pivotar niveles."
   ]
  },
  {
   "cell_type": "markdown",
   "id": "0bbecab1",
   "metadata": {},
   "source": [
    "### Entrada y Salida de Datos"
   ]
  },
  {
   "cell_type": "markdown",
   "id": "088735b3",
   "metadata": {},
   "source": [
    "pandas soporta lectura/escritura en múltiples formatos:\n",
    "\n",
    "* CSV → pd.read_csv() / to_csv()\n",
    "\n",
    "* Excel → read_excel() / to_excel()\n",
    "\n",
    "* JSON, HTML, SQL, Parquet, Feather, etc."
   ]
  },
  {
   "cell_type": "code",
   "execution_count": 29,
   "id": "7c5fc0d7",
   "metadata": {},
   "outputs": [],
   "source": [
    "df.to_csv('output.csv', index=False)"
   ]
  }
 ],
 "metadata": {
  "kernelspec": {
   "display_name": "Python (.venv - Curso)",
   "language": "python",
   "name": "curso-python-venv"
  },
  "language_info": {
   "codemirror_mode": {
    "name": "ipython",
    "version": 3
   },
   "file_extension": ".py",
   "mimetype": "text/x-python",
   "name": "python",
   "nbconvert_exporter": "python",
   "pygments_lexer": "ipython3",
   "version": "3.12.10"
  }
 },
 "nbformat": 4,
 "nbformat_minor": 5
}
