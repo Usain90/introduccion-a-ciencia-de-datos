{
 "cells": [
  {
   "cell_type": "markdown",
   "id": "0b8352c2",
   "metadata": {},
   "source": [
    "### Numpy"
   ]
  },
  {
   "cell_type": "markdown",
   "id": "ff08898f",
   "metadata": {},
   "source": [
    "Introducción:"
   ]
  },
  {
   "cell_type": "markdown",
   "id": "62d5d9eb",
   "metadata": {},
   "source": [
    "NumPy (Numerical Python) es la librería base para la computación científica en Python. Su núcleo es el array multidimensional ndarray, que permite almacenar y operar sobre grandes volúmenes de datos numéricos de forma eficiente (mucho más rápida que con listas)."
   ]
  },
  {
   "cell_type": "markdown",
   "id": "ed077c8f",
   "metadata": {},
   "source": [
    "Objtivo:"
   ]
  },
  {
   "cell_type": "markdown",
   "id": "b172991d",
   "metadata": {},
   "source": [
    "Es un contenedor de datos homogéneos (todos los elementos del mismo tipo).\n",
    "\n",
    "Atributos principales:\n",
    "\n",
    "* ndim: número de dimensiones (ejes).\n",
    "\n",
    "* shape: tamaño de cada dimensión.\n",
    "\n",
    "* dtype: tipo de dato de los elementos."
   ]
  },
  {
   "cell_type": "code",
   "execution_count": null,
   "id": "c0b4dc6a",
   "metadata": {
    "vscode": {
     "languageId": "plaintext"
    }
   },
   "outputs": [],
   "source": [
    "import numpy as np\n",
    "\n",
    "arr = np.array([[1, 2, 3], [4, 5, 6]])\n",
    "print(arr.ndim)   # 2\n",
    "print(arr.shape)  # (2, 3)\n",
    "print(arr.dtype)  # int64 (depende del sistema)\n"
   ]
  },
  {
   "cell_type": "code",
   "execution_count": null,
   "id": "5b296e83",
   "metadata": {
    "vscode": {
     "languageId": "plaintext"
    }
   },
   "outputs": [],
   "source": []
  }
 ],
 "metadata": {
  "language_info": {
   "name": "python"
  }
 },
 "nbformat": 4,
 "nbformat_minor": 5
}
