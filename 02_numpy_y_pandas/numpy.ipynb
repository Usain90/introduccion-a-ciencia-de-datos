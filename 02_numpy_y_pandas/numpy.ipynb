{
 "cells": [
  {
   "cell_type": "markdown",
   "id": "0b8352c2",
   "metadata": {},
   "source": [
    "## Numpy"
   ]
  },
  {
   "cell_type": "markdown",
   "id": "ff08898f",
   "metadata": {},
   "source": [
    "Introducción:"
   ]
  },
  {
   "cell_type": "markdown",
   "id": "62d5d9eb",
   "metadata": {},
   "source": [
    "NumPy (Numerical Python) es la librería base para la computación científica en Python. Su núcleo es el array multidimensional ndarray, que permite almacenar y operar sobre grandes volúmenes de datos numéricos de forma eficiente (mucho más rápida que con listas)."
   ]
  },
  {
   "cell_type": "markdown",
   "id": "ed077c8f",
   "metadata": {},
   "source": [
    "Objtivo:"
   ]
  },
  {
   "cell_type": "markdown",
   "id": "b172991d",
   "metadata": {},
   "source": [
    "Es un contenedor de datos homogéneos (todos los elementos del mismo tipo).\n",
    "\n",
    "Atributos principales:\n",
    "\n",
    "* ndim: número de dimensiones (ejes).\n",
    "\n",
    "* shape: tamaño de cada dimensión.\n",
    "\n",
    "* dtype: tipo de dato de los elementos."
   ]
  },
  {
   "cell_type": "code",
   "execution_count": 26,
   "id": "0a15463a",
   "metadata": {},
   "outputs": [],
   "source": [
    "import numpy as np"
   ]
  },
  {
   "cell_type": "code",
   "execution_count": 27,
   "id": "c0b4dc6a",
   "metadata": {},
   "outputs": [
    {
     "name": "stdout",
     "output_type": "stream",
     "text": [
      "2\n",
      "(2, 3)\n",
      "int64\n"
     ]
    }
   ],
   "source": [
    "\n",
    "\n",
    "arr = np.array([[1, 2, 3], [4, 5, 6]])\n",
    "print(arr.ndim)   # 2\n",
    "print(arr.shape)  # (2, 3)\n",
    "print(arr.dtype)  # int64 (depende del sistema)\n"
   ]
  },
  {
   "cell_type": "code",
   "execution_count": 30,
   "id": "443c95b1",
   "metadata": {},
   "outputs": [
    {
     "data": {
      "text/plain": [
       "array([[1, 2, 3],\n",
       "       [4, 5, 6]])"
      ]
     },
     "execution_count": 30,
     "metadata": {},
     "output_type": "execute_result"
    }
   ],
   "source": [
    "arr"
   ]
  },
  {
   "cell_type": "markdown",
   "id": "6b317993",
   "metadata": {},
   "source": [
    "### Creación de arrays\n",
    "\n",
    "NumPy ofrece varias funciones para crear arrays rápidamente:"
   ]
  },
  {
   "cell_type": "code",
   "execution_count": 31,
   "id": "80477e6c",
   "metadata": {},
   "outputs": [
    {
     "data": {
      "text/plain": [
       "array([1, 2, 3])"
      ]
     },
     "execution_count": 31,
     "metadata": {},
     "output_type": "execute_result"
    }
   ],
   "source": [
    "np.array([1, 2, 3])       # Desde una lista"
   ]
  },
  {
   "cell_type": "code",
   "execution_count": 35,
   "id": "f81d1cb4",
   "metadata": {},
   "outputs": [
    {
     "data": {
      "text/plain": [
       "array([[0., 0., 0.],\n",
       "       [0., 0., 0.]])"
      ]
     },
     "execution_count": 35,
     "metadata": {},
     "output_type": "execute_result"
    }
   ],
   "source": [
    "np.zeros((2, 3))          # Matriz de ceros"
   ]
  },
  {
   "cell_type": "code",
   "execution_count": 34,
   "id": "0bdf46c7",
   "metadata": {},
   "outputs": [
    {
     "data": {
      "text/plain": [
       "array([[0, 0, 0],\n",
       "       [0, 0, 0]])"
      ]
     },
     "execution_count": 34,
     "metadata": {},
     "output_type": "execute_result"
    }
   ],
   "source": [
    "arr = np.array([[0, 0, 0], [0, 0, 0]])\n",
    "arr"
   ]
  },
  {
   "cell_type": "code",
   "execution_count": 20,
   "id": "356ecbcc",
   "metadata": {},
   "outputs": [
    {
     "data": {
      "text/plain": [
       "array([1., 1., 1., 1.])"
      ]
     },
     "execution_count": 20,
     "metadata": {},
     "output_type": "execute_result"
    }
   ],
   "source": [
    "np.ones(4)                # Vector de unos"
   ]
  },
  {
   "cell_type": "code",
   "execution_count": 21,
   "id": "cc38c101",
   "metadata": {},
   "outputs": [
    {
     "data": {
      "text/plain": [
       "array([0, 2, 4, 6, 8])"
      ]
     },
     "execution_count": 21,
     "metadata": {},
     "output_type": "execute_result"
    }
   ],
   "source": [
    "np.arange(0, 10, 2)       # Secuencia (como range)"
   ]
  },
  {
   "cell_type": "code",
   "execution_count": 36,
   "id": "f31833f4",
   "metadata": {},
   "outputs": [
    {
     "data": {
      "text/plain": [
       "array([0.  , 0.25, 0.5 , 0.75, 1.  ])"
      ]
     },
     "execution_count": 36,
     "metadata": {},
     "output_type": "execute_result"
    }
   ],
   "source": [
    "np.linspace(0, 1, 5)      # Valores entre 0 y 1 (inclusivo)"
   ]
  },
  {
   "cell_type": "code",
   "execution_count": 37,
   "id": "64d7ca33",
   "metadata": {},
   "outputs": [
    {
     "data": {
      "text/plain": [
       "array([[1., 0., 0.],\n",
       "       [0., 1., 0.],\n",
       "       [0., 0., 1.]])"
      ]
     },
     "execution_count": 37,
     "metadata": {},
     "output_type": "execute_result"
    }
   ],
   "source": [
    "np.eye(3)                 # Matriz identidad"
   ]
  },
  {
   "cell_type": "markdown",
   "id": "125804bb",
   "metadata": {},
   "source": [
    "### Operaciones vectorizadas\n",
    "\n",
    "En lugar de usae bucles, Numpy aplica operaciones elemento a elemento:\n",
    "\n",
    "Estas operaciones son rápidas porque están implementadas en C."
   ]
  },
  {
   "cell_type": "code",
   "execution_count": 38,
   "id": "681f62e6",
   "metadata": {},
   "outputs": [
    {
     "name": "stdout",
     "output_type": "stream",
     "text": [
      "[2 4 6]\n",
      "[4 5 6]\n"
     ]
    }
   ],
   "source": [
    "arr = np.array([1, 2, 3])\n",
    "print(arr * 2)   # [2, 4, 6]\n",
    "print(arr + 3)   # [4, 5, 6]"
   ]
  },
  {
   "cell_type": "markdown",
   "id": "7e0649e5",
   "metadata": {},
   "source": [
    "### Indexing y slicing\n",
    "\n",
    "NumPy permite seleccionar partes de arrays fácilmente:"
   ]
  },
  {
   "cell_type": "code",
   "execution_count": 44,
   "id": "5d0fffe6",
   "metadata": {},
   "outputs": [
    {
     "name": "stdout",
     "output_type": "stream",
     "text": [
      "[5 6 7]\n"
     ]
    }
   ],
   "source": [
    "arr = np.arange(10)\n",
    "print(arr[5:8])     # [5 6 7]\n",
    "arr[5:8] = 12       # Modifica directamente el array original"
   ]
  },
  {
   "cell_type": "code",
   "execution_count": 45,
   "id": "e074cdf6",
   "metadata": {},
   "outputs": [
    {
     "data": {
      "text/plain": [
       "array([ 0,  1,  2,  3,  4, 12, 12, 12,  8,  9])"
      ]
     },
     "execution_count": 45,
     "metadata": {},
     "output_type": "execute_result"
    }
   ],
   "source": [
    "arr"
   ]
  },
  {
   "cell_type": "markdown",
   "id": "295ded9e",
   "metadata": {},
   "source": [
    "También incluye indexación booleana y fancy indexing:"
   ]
  },
  {
   "cell_type": "code",
   "execution_count": 46,
   "id": "43be6a8d",
   "metadata": {},
   "outputs": [
    {
     "name": "stdout",
     "output_type": "stream",
     "text": [
      "[[-0.97644375 -1.07117632 -0.72242955 -0.9470815 ]\n",
      " [ 0.40553259  1.98409142  0.43281228 -2.05949818]]\n"
     ]
    }
   ],
   "source": [
    "names = np.array(['A', 'B', 'C', 'A'])\n",
    "data = np.random.randn(4, 4)\n",
    "print(data[names == 'A'])   # Filtra filas donde name = 'A'"
   ]
  },
  {
   "cell_type": "code",
   "execution_count": 48,
   "id": "bee641f4",
   "metadata": {},
   "outputs": [
    {
     "data": {
      "text/plain": [
       "array([[-0.97644375, -1.07117632, -0.72242955, -0.9470815 ],\n",
       "       [ 0.2248927 ,  1.51841265,  0.99054853, -1.0473794 ],\n",
       "       [-0.10336482, -2.07459708, -0.87799366, -0.89748218],\n",
       "       [ 0.40553259,  1.98409142,  0.43281228, -2.05949818]])"
      ]
     },
     "execution_count": 48,
     "metadata": {},
     "output_type": "execute_result"
    }
   ],
   "source": [
    "data"
   ]
  },
  {
   "cell_type": "markdown",
   "id": "7b655ce3",
   "metadata": {},
   "source": [
    "### Transposición y reshape\n",
    "\n",
    "Cambiar la forma o el orden de los datos:"
   ]
  },
  {
   "cell_type": "code",
   "execution_count": 50,
   "id": "72d30e1a",
   "metadata": {},
   "outputs": [
    {
     "name": "stdout",
     "output_type": "stream",
     "text": [
      "[[0 4]\n",
      " [1 5]\n",
      " [2 6]\n",
      " [3 7]]\n"
     ]
    }
   ],
   "source": [
    "arr = np.arange(8).reshape((2, 4))\n",
    "print(arr.T)   # Transposición (4x2)"
   ]
  },
  {
   "cell_type": "code",
   "execution_count": 17,
   "id": "8da966e1",
   "metadata": {},
   "outputs": [
    {
     "data": {
      "text/plain": [
       "array([[0, 1, 2, 3],\n",
       "       [4, 5, 6, 7]])"
      ]
     },
     "execution_count": 17,
     "metadata": {},
     "output_type": "execute_result"
    }
   ],
   "source": [
    "arr"
   ]
  },
  {
   "cell_type": "markdown",
   "id": "b8cbdaf3",
   "metadata": {},
   "source": [
    "### Funciones universales (ufuncs)\n",
    "\n",
    "Son funciones que operan elemento a elemento sobre arrays:"
   ]
  },
  {
   "cell_type": "code",
   "execution_count": 51,
   "id": "d4cd50af",
   "metadata": {},
   "outputs": [
    {
     "data": {
      "text/plain": [
       "array([2, 2, 2, 3, 4])"
      ]
     },
     "execution_count": 51,
     "metadata": {},
     "output_type": "execute_result"
    }
   ],
   "source": [
    "arr = np.arange(5)\n",
    "np.sqrt(arr)     # Raíz cuadrada\n",
    "np.exp(arr)      # Exponencial\n",
    "np.maximum(arr, 2)  # Elemento a elemento\n"
   ]
  },
  {
   "cell_type": "markdown",
   "id": "6d6b1876",
   "metadata": {},
   "source": [
    "### Álgebra lineal y operaciones avanzadas\n",
    "\n",
    "NumPy incluye herramientas como:"
   ]
  },
  {
   "cell_type": "code",
   "execution_count": 54,
   "id": "404e6c9e",
   "metadata": {},
   "outputs": [
    {
     "data": {
      "text/plain": [
       "EigResult(eigenvalues=array([-0.37228132,  5.37228132]), eigenvectors=array([[-0.82456484, -0.41597356],\n",
       "       [ 0.56576746, -0.90937671]]))"
      ]
     },
     "execution_count": 54,
     "metadata": {},
     "output_type": "execute_result"
    }
   ],
   "source": [
    "A = np.array([[1, 2], [3, 4]])\n",
    "B = np.array([[10, 20], [30, 40]])\n",
    "\n",
    "#A.dot(B)     # Producto matricial\n",
    "#np.linalg.inv(A)   # Inversa\n",
    "np.linalg.eig(A)   # Valores y vectores propios\n"
   ]
  },
  {
   "cell_type": "code",
   "execution_count": 24,
   "id": "24927e6c",
   "metadata": {},
   "outputs": [
    {
     "data": {
      "text/plain": [
       "EigResult(eigenvalues=array([-0.37228132,  5.37228132]), eigenvectors=array([[-0.82456484, -0.41597356],\n",
       "       [ 0.56576746, -0.90937671]]))"
      ]
     },
     "execution_count": 24,
     "metadata": {},
     "output_type": "execute_result"
    }
   ],
   "source": [
    "np.linalg.eig(A) "
   ]
  },
  {
   "cell_type": "markdown",
   "id": "d46db845",
   "metadata": {},
   "source": [
    "### Números aleatorios"
   ]
  },
  {
   "cell_type": "code",
   "execution_count": 64,
   "id": "e501b7e9",
   "metadata": {},
   "outputs": [],
   "source": [
    "samples = np.random.randn(4, 4)  # Distribución normal\n",
    "np.random.seed(42)     "
   ]
  },
  {
   "cell_type": "code",
   "execution_count": 66,
   "id": "c214e659",
   "metadata": {},
   "outputs": [
    {
     "data": {
      "text/plain": [
       "array([[ 0.49671415, -0.1382643 ,  0.64768854,  1.52302986],\n",
       "       [-0.23415337, -0.23413696,  1.57921282,  0.76743473],\n",
       "       [-0.46947439,  0.54256004, -0.46341769, -0.46572975],\n",
       "       [ 0.24196227, -1.91328024, -1.72491783, -0.56228753]])"
      ]
     },
     "execution_count": 66,
     "metadata": {},
     "output_type": "execute_result"
    }
   ],
   "source": [
    "samples"
   ]
  },
  {
   "cell_type": "markdown",
   "id": "92cb8cb3",
   "metadata": {},
   "source": [
    "### Random Walk"
   ]
  },
  {
   "cell_type": "code",
   "execution_count": 74,
   "id": "c9c112bd",
   "metadata": {},
   "outputs": [],
   "source": [
    "nsteps = 1000\n",
    "draws = np.random.randint(0, 2, size=nsteps)\n",
    "steps = np.where(draws > 0, 1, -1)\n",
    "walk = steps.cumsum()\n"
   ]
  },
  {
   "cell_type": "code",
   "execution_count": 75,
   "id": "8c008bf0",
   "metadata": {},
   "outputs": [
    {
     "data": {
      "image/png": "[encoded data removed]",
      "text/plain": [
       "<Figure size 1000x500 with 1 Axes>"
      ]
     },
     "metadata": {},
     "output_type": "display_data"
    }
   ],
   "source": [
    "import matplotlib.pyplot as plt\n",
    "\n",
    "plt.figure(figsize=(10, 5))\n",
    "plt.plot(walk)\n",
    "plt.title(\"Random Walk de 1000 pasos\")\n",
    "plt.xlabel(\"Número de paso\")\n",
    "plt.ylabel(\"Posición\")\n",
    "plt.grid(True)\n",
    "plt.show()\n"
   ]
  }
 ],
 "metadata": {
  "kernelspec": {
   "display_name": "Python (.venv - Curso)",
   "language": "python",
   "name": "curso-python-venv"
  },
  "language_info": {
   "codemirror_mode": {
    "name": "ipython",
    "version": 3
   },
   "file_extension": ".py",
   "mimetype": "text/x-python",
   "name": "python",
   "nbconvert_exporter": "python",
   "pygments_lexer": "ipython3",
   "version": "3.12.10"
  }
 },
 "nbformat": 4,
 "nbformat_minor": 5
}
